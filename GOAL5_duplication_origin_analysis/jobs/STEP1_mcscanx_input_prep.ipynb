{
 "cells": [
  {
   "cell_type": "markdown",
   "id": "8be9f178-27e0-4ecb-a1ac-539fb0a3f92a",
   "metadata": {},
   "source": [
    "## Preface\n",
    "\n",
    "The purpose of this script is to prepare the bed files for use in MCScanX_h and finish the processing in R. We will use the coordinate files from when selecting the longest isoforms in `/project_root/comp_mutualism/processed_data/longest_protein` and `/project_root/comp_mutualism/input_data/genome_metatada/`. We will use the RefSeq IDs which is what I have been using to differentiate the different isoforms for each gene.\n",
    "\n",
    "The assumed working directory is the jobs folder."
   ]
  },
  {
   "cell_type": "code",
   "execution_count": 1,
   "id": "f7e299b5-9e2e-4a50-9000-7a422f9810e9",
   "metadata": {},
   "outputs": [],
   "source": [
    "import pandas as pd\n",
    "import os as os"
   ]
  },
  {
   "cell_type": "markdown",
   "id": "37e766db-f3a8-4bbc-995a-6d79ae56054e",
   "metadata": {},
   "source": [
    "## Get List of Longest Isoforms"
   ]
  },
  {
   "cell_type": "code",
   "execution_count": 36,
   "id": "2abd03d1-254c-4a45-a4aa-3cececb04572",
   "metadata": {},
   "outputs": [
    {
     "name": "stderr",
     "output_type": "stream",
     "text": [
      "/tmp/ipykernel_103/3429406567.py:7: DtypeWarning: Columns (5) have mixed types. Specify dtype option on import or set low_memory=False.\n",
      "  ref_df = pd.read_table(\"../metadata/genome_metadata/\" + i[:-1])\n"
     ]
    }
   ],
   "source": [
    "#get list of proteins and filter input genome assemblies for preparing the gff files\n",
    "for i in os.listdir(\"../metadata/longest_protein/\"):\n",
    "    #only do AM genomes\n",
    "    if i.startswith(\"AM_\"):\n",
    "        longest_protein = open(\"../metadata/longest_protein/\" + i).read().splitlines()\n",
    "        \n",
    "        ref_df = pd.read_table(\"../metadata/genome_metadata/\" + i[:-1])\n",
    "        \n",
    "        #filter genome_metadata for Protein products that are the longest isoforms for each gene\n",
    "        ref_df = ref_df[ref_df[\"Protein product\"].isin(longest_protein)]\n",
    "        \n",
    "        #only select the columns that have the chromosome ID, the Protein Product and the Start/Stop\n",
    "        ref_df = ref_df[[\"Replicon Accession\", \"Protein product\", \"Start\", \"Stop\"]]\n",
    "        \n",
    "        #export to processed_data folder with each species in its own folder because that's how MCScanX_h runs\n",
    "        os.mkdir(\"../processed_data/\" + i[:-5])\n",
    "        ref_df.to_csv(\"../processed_data/\" + i[:-5] + \"/\" + i[:-5] + \".gff\", sep = \"\\t\", header = False, index = False)\n",
    "    else: \n",
    "        pass"
   ]
  }
 ],
 "metadata": {
  "kernelspec": {
   "display_name": "Python 3 (ipykernel)",
   "language": "python",
   "name": "python3"
  },
  "language_info": {
   "codemirror_mode": {
    "name": "ipython",
    "version": 3
   },
   "file_extension": ".py",
   "mimetype": "text/x-python",
   "name": "python",
   "nbconvert_exporter": "python",
   "pygments_lexer": "ipython3",
   "version": "3.11.4"
  }
 },
 "nbformat": 4,
 "nbformat_minor": 5
}
