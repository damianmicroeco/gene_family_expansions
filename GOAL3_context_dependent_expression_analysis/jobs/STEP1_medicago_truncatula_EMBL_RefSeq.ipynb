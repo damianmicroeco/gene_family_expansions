{
 "cells": [
  {
   "cell_type": "markdown",
   "id": "7c9c5ae6-4497-45d3-ad2f-ec98ce97d7f3",
   "metadata": {},
   "source": [
    "## Preface\n",
    "\n",
    "The purpose of this script is to match EMBL gene IDs with those from RefSeq. We will use the peptide library from EMBL as the query database and the RefSeq as the subject. From there we will map the BLAST hits to Orthogroups.\n",
    "\n",
    "The working directory is the jobs folder."
   ]
  },
  {
   "cell_type": "code",
   "execution_count": 1,
   "id": "f5f66ea1-81e6-4cda-ab71-62f31fa13044",
   "metadata": {},
   "outputs": [],
   "source": [
    "import pandas as pd\n",
    "import Bio.SeqIO as SeqIO\n",
    "from Bio import SearchIO\n",
    "import os as os"
   ]
  },
  {
   "cell_type": "markdown",
   "id": "57116081-5d33-4b4e-9bd4-47011a0cf52e",
   "metadata": {},
   "source": [
    "## FASTA Input\n",
    "\n",
    "Here we are loading in the Medicago Truncatula (v4.0) sequences from EMBL."
   ]
  },
  {
   "cell_type": "code",
   "execution_count": 2,
   "id": "e1062225-2eb6-4e92-9d53-83e55ef37f2a",
   "metadata": {},
   "outputs": [],
   "source": [
    "#read in fasta files\n",
    "embl = SeqIO.to_dict(SeqIO.parse(\"../raw_data/Medicago_truncatula.MedtrA17_4.0.pep.all.fa\", \"fasta\"))\n",
    "\n",
    "#extract ids\n",
    "embl_ids = list(embl.keys())\n",
    "\n",
    "#extract sequences. doing this iterative search will keep both the ids and sequences in the same order for easier reference\n",
    "embl_seq = []\n",
    "\n",
    "for i in embl_ids:\n",
    "    embl_seq.append(embl[i].seq)"
   ]
  },
  {
   "cell_type": "markdown",
   "id": "c2ef21e0-bee7-4b3d-83ac-55b7b6885781",
   "metadata": {},
   "source": [
    "## BLAST Alignment\n",
    "\n",
    "BLAST Ensembl sequences against RefSeq versions. Save data to disk because it can be computationally intensive."
   ]
  },
  {
   "cell_type": "code",
   "execution_count": 3,
   "id": "bd5abda3-32b1-489e-812b-a0ec5f4829dc",
   "metadata": {},
   "outputs": [
    {
     "data": {
      "text/plain": [
       "0"
      ]
     },
     "execution_count": 3,
     "metadata": {},
     "output_type": "execute_result"
    }
   ],
   "source": [
    "#construct BLAST database\n",
    "os.system(\"makeblastdb -in ../20200324_genome_analyses/raw_data/protein_fasta/AM_refseq_medicago_truncatula.FAA -out ../blast_db/medicago_truncatula -dbtype prot\")"
   ]
  },
  {
   "cell_type": "code",
   "execution_count": 4,
   "id": "c70d57a6-35af-4bd6-acc2-18b4a8cdf8fe",
   "metadata": {},
   "outputs": [],
   "source": [
    "\"\"\"\n",
    "No need to re-run this because it takes forever and I did it already.\n",
    "\"\"\"\n",
    "#construct directory to store blast alignments\n",
    "os.mkdir(\"../processed_data/Q-medicagoENSEMBL_S-medicagoREFSEQ\")\n",
    "\n",
    "#write out embl sequences to file to make life easier\n",
    "os.mkdir(\"../raw_data/medicago_truncatula_embl_seq\")\n",
    "\n",
    "for record in SeqIO.parse(\"../raw_data/Medicago_truncatula.MedtrA17_4.0.pep.all.fa\", \"fasta\"):\n",
    "    SeqIO.write(record, \"../raw_data/medicago_truncatula_embl_seq/\" + record.id + \".FAA\", \"fasta\")\n",
    "\n",
    "seq_files = os.listdir(\"../raw_data/medicago_truncatula_embl_seq\")"
   ]
  },
  {
   "cell_type": "code",
   "execution_count": 5,
   "id": "fbe07dea-60bb-4d35-a77c-e869bb9b585b",
   "metadata": {},
   "outputs": [
    {
     "name": "stdout",
     "output_type": "stream",
     "text": [
      "57585\n",
      "57585\n",
      "57585\n",
      "AES58618.FAA\n"
     ]
    }
   ],
   "source": [
    "print(len(seq_files))\n",
    "print(len(embl_ids))\n",
    "print(len(set(embl_ids)))\n",
    "print(seq_files[0])"
   ]
  },
  {
   "cell_type": "code",
   "execution_count": 6,
   "id": "46950edf-db2f-40f6-bd06-aa71418544a8",
   "metadata": {},
   "outputs": [],
   "source": [
    "\"\"\"\n",
    "I already ran this. No need to run it again.\n",
    "\"\"\"\n",
    "#run blast alignments and save to disk\n",
    "db = \"../blast_db/medicago_truncatula\"\n",
    "for i in seq_files:\n",
    "    cmd = \"blastp -query ../raw_data/medicago_truncatula_embl_seq/\" + i + \" -db \" + db + \" -outfmt 7 -out ../processed_data/Q-medicagoENSEMBL_S-medicagoREFSEQ/\" + i + \".txt\"\n",
    "    os.system(cmd)"
   ]
  },
  {
   "cell_type": "markdown",
   "id": "01b070a9-bc6c-4026-864d-d9fa7e50ab58",
   "metadata": {},
   "source": [
    "## Extracting BLAST Data"
   ]
  },
  {
   "cell_type": "code",
   "execution_count": 13,
   "id": "e408e48a-6e92-4056-83a6-92612106158a",
   "metadata": {},
   "outputs": [],
   "source": [
    "#iterate through blast files and save most relevant information\n",
    "embl_gene = []\n",
    "refseq_gene = []\n",
    "ident_pcts = []\n",
    "aln_spans = []\n",
    "evalues = []\n",
    "\n",
    "file_prefix = \"../processed_data/Q-medicagoENSEMBL_S-medicagoREFSEQ/\"\n",
    "files = os.listdir(file_prefix)\n",
    "\n",
    "for i in files:\n",
    "    try:\n",
    "        blast_in = SearchIO.read(file_prefix + i, \"blast-tab\", comments = True)\n",
    "        embl_gene.append(blast_in[0][0].query_id)\n",
    "        refseq_gene.append(blast_in[0][0].hit_id)\n",
    "        ident_pcts.append(blast_in[0][0].ident_pct)\n",
    "        aln_spans.append(blast_in[0][0].aln_span)\n",
    "        evalues.append(blast_in[0][0].evalue)\n",
    "    except:\n",
    "        pass"
   ]
  },
  {
   "cell_type": "code",
   "execution_count": 14,
   "id": "ee65e87d-fc81-4f1b-8528-164baa26759e",
   "metadata": {},
   "outputs": [],
   "source": [
    "#convert blast info lists into python dataframe\n",
    "blast_df = pd.DataFrame(list(zip(embl_gene, refseq_gene, ident_pcts, aln_spans, evalues)),\n",
    "                       columns = [\"embl_gene\", \"refseq_gene\", \"percent_identity\", \"alignment_length\", \"evalue\"])\n",
    "blast_df.to_csv(\"../processed_data/20210706_medicago_blast_results.tsv\", sep = \"\\t\")"
   ]
  },
  {
   "cell_type": "code",
   "execution_count": 2,
   "id": "cf059ba9-e17c-486e-9965-b5a41888e3d6",
   "metadata": {},
   "outputs": [],
   "source": [
    "blast_df = pd.read_csv(\"../processed_data/20210706_medicago_blast_results.tsv\", sep = \"\\t\", index_col = 0)\n",
    "\n",
    "#I'm choosing a relatively stringent requirement of e-value < 0.0001 as an accepted cut-off\n",
    "blast_df[\"evalue_acceptance\"] = blast_df.evalue < 0.0001"
   ]
  },
  {
   "cell_type": "markdown",
   "id": "9beb2321-e294-43cc-9bf6-71846a56b4b4",
   "metadata": {},
   "source": [
    "## Orthogroup Matching"
   ]
  },
  {
   "cell_type": "code",
   "execution_count": 4,
   "id": "060301ba-45a9-4cde-990b-fe1c98247cfa",
   "metadata": {},
   "outputs": [],
   "source": [
    "#read in orthogroup data\n",
    "ortho_meta = pd.read_csv(\"../20200324_genome_analyses/metadata/Orthogroups.csv\", sep = \"\\t\")"
   ]
  },
  {
   "cell_type": "code",
   "execution_count": 5,
   "id": "a41c568d-b252-4312-a554-4b1e6cf7a109",
   "metadata": {},
   "outputs": [],
   "source": [
    "#create dataframe matching brachypodium proteins with orthogroup\n",
    "ortho_filt = ortho_meta[[\"Unnamed: 0\", \"AM_refseq_medicago_truncatula\"]]\n",
    "ortho_filt = ortho_filt.dropna()\n",
    "\n",
    "#match proteins to orthogroups\n",
    "orthogroup = []\n",
    "protein = []\n",
    "\n",
    "for i in range(0,len(ortho_filt.index)):\n",
    "    holder = ortho_filt.iloc[i,1]\n",
    "    for j in holder.split(\", \"):\n",
    "        orthogroup.append(ortho_filt.iloc[i,0])\n",
    "        protein.append(j)\n",
    "\n",
    "refseq_ortho = pd.DataFrame(list(zip(orthogroup, protein)),\n",
    "                          columns = [\"orthogroup\", \"refseq_gene\"])"
   ]
  },
  {
   "cell_type": "code",
   "execution_count": 14,
   "id": "a6aa153b-00db-4ba8-a282-c1dbdb8a94db",
   "metadata": {},
   "outputs": [],
   "source": [
    "blast_df2 = pd.merge(blast_df, refseq_ortho, on = \"refseq_gene\")\n",
    "blast_df2.loc[(blast_df2.evalue_acceptance == False), \"orthogroup\"] = \"not_in_refseq\"\n",
    "\n",
    "#load ENA metadata for matching protein accessions to genes\n",
    "ena = pd.read_csv(\"../metadata/Medicago_truncatula.MedtrA17_4.0.51.ena.tsv\", sep = \"\\t\")\n",
    "blast_df2 = pd.merge(blast_df2, ena, left_on = \"embl_gene\", right_on = \"protein_stable_id\")\n",
    "\n",
    "#replace MTR_ with Medtr in gene stable ids to match jcvi conventions\n",
    "blast_df2[\"jcvi\"] = blast_df2[\"gene_stable_id\"].replace({\"MTR_\" : \"Medtr\"}, regex=True)\n",
    "\n",
    "#This dataframe has multiple entries for each protein because ENA marks all the different kinds of accession in different rows for the same gene\n",
    "blast_df2.to_csv(\"../processed_data/20210706_medicago_blast_with_orthogroup.tsv\", sep = \"\\t\")"
   ]
  }
 ],
 "metadata": {
  "kernelspec": {
   "display_name": "Python 3",
   "language": "python",
   "name": "python3"
  },
  "language_info": {
   "codemirror_mode": {
    "name": "ipython",
    "version": 3
   },
   "file_extension": ".py",
   "mimetype": "text/x-python",
   "name": "python",
   "nbconvert_exporter": "python",
   "pygments_lexer": "ipython3",
   "version": "3.7.10"
  }
 },
 "nbformat": 4,
 "nbformat_minor": 5
}
