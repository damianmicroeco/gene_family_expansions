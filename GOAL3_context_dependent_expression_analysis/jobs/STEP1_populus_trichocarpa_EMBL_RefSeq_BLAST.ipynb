{
 "cells": [
  {
   "cell_type": "markdown",
   "id": "variable-indiana",
   "metadata": {},
   "source": [
    "## Preface\n",
    "\n",
    "The purpose of this script is to match EMBL gene IDs with those from RefSeq. We will use the peptide library from EMBL as the query database and the RefSeq as the subject. From there we will map the BLAST hits to Orthogroups. We will blast against the closest related plant (Manihot esculenta) whose genome sequencing is complete and can be identified up to the level of chromosome (not just scaffold like the alternatives Hevea brasiliensis and Ricinus communis) in our dataset.\n",
    "\n",
    "The working directory is the jobs folder."
   ]
  },
  {
   "cell_type": "code",
   "execution_count": 1,
   "id": "manufactured-dinner",
   "metadata": {},
   "outputs": [],
   "source": [
    "import pandas as pd\n",
    "import Bio.SeqIO as SeqIO\n",
    "from Bio import SearchIO\n",
    "import os as os"
   ]
  },
  {
   "cell_type": "markdown",
   "id": "challenging-classroom",
   "metadata": {},
   "source": [
    "## FASTA inputs\n",
    "\n",
    "Here we are loading in the Populus trichocarpa EMBL sequences."
   ]
  },
  {
   "cell_type": "code",
   "execution_count": 2,
   "id": "prepared-rings",
   "metadata": {},
   "outputs": [],
   "source": [
    "#read in fasta files\n",
    "embl = SeqIO.to_dict(SeqIO.parse(\"../raw_data/Populus_trichocarpa.Pop_tri_v3.pep.all.fa\", \"fasta\"))\n",
    "\n",
    "#extract ids\n",
    "embl_ids = list(embl.keys())\n",
    "\n",
    "#extract sequences. doing this iterative search will keep both the ids and sequences in the same order for easier reference\n",
    "embl_seq = []\n",
    "\n",
    "for i in embl_ids:\n",
    "    embl_seq.append(embl[i].seq)"
   ]
  },
  {
   "cell_type": "markdown",
   "id": "imperial-second",
   "metadata": {},
   "source": [
    "## BLAST alignment\n",
    "\n",
    "BLAST Populus transcripts against Manihot transcripts. Save this data to disk because it can be computationally intensive."
   ]
  },
  {
   "cell_type": "code",
   "execution_count": 5,
   "id": "349bdfc5-c2ff-4dc2-bd21-a6cea47e6020",
   "metadata": {},
   "outputs": [
    {
     "data": {
      "text/plain": [
       "0"
      ]
     },
     "execution_count": 5,
     "metadata": {},
     "output_type": "execute_result"
    }
   ],
   "source": [
    "#construct BLAST database\n",
    "os.system(\"makeblastdb -in ../20200324_genome_analyses/raw_data/protein_fasta/AM_refseq_manihot_esculenta.FAA -out ../blast_db/manihot_esculenta -dbtype prot\")"
   ]
  },
  {
   "cell_type": "code",
   "execution_count": 3,
   "id": "static-three",
   "metadata": {},
   "outputs": [],
   "source": [
    "\"\"\"\n",
    "No need to re-run this because it takes forever and I did it already.\n",
    "\"\"\"\n",
    "#construct directory to store blast alignments\n",
    "os.mkdir(\"../processed_data/Q-populus_S-manihot\")\n",
    "\n",
    "#write out embl sequences to file to make life easier\n",
    "os.mkdir(\"../raw_data/populus_trichocarpa_embl_seq\")\n",
    "\n",
    "for record in SeqIO.parse(\"../raw_data/Populus_trichocarpa.Pop_tri_v3.pep.all.fa\", \"fasta\"):\n",
    "    SeqIO.write(record, \"../raw_data/populus_trichocarpa_embl_seq/\" + record.id + \".FAA\", \"fasta\")\n",
    "\n",
    "seq_files = os.listdir(\"../raw_data/populus_trichocarpa_embl_seq\")"
   ]
  },
  {
   "cell_type": "code",
   "execution_count": 4,
   "id": "approximate-remainder",
   "metadata": {},
   "outputs": [
    {
     "name": "stdout",
     "output_type": "stream",
     "text": [
      "73012\n",
      "73012\n",
      "73012\n",
      "PNT54524.FAA\n"
     ]
    }
   ],
   "source": [
    "print(len(seq_files))\n",
    "print(len(embl_ids))\n",
    "print(len(set(embl_ids)))\n",
    "print(seq_files[0])"
   ]
  },
  {
   "cell_type": "code",
   "execution_count": 6,
   "id": "touched-moldova",
   "metadata": {},
   "outputs": [],
   "source": [
    "\"\"\"\n",
    "I already ran this. No need to run it again.\n",
    "\"\"\"\n",
    "#run blast alignments and save to disk\n",
    "db = \"../blast_db/manihot_esculenta\"\n",
    "for i in seq_files:\n",
    "    cmd = \"blastp -query ../raw_data/populus_trichocarpa_embl_seq/\" + i + \" -db \" + db + \" -outfmt 7 -out ../processed_data/Q-populus_S-manihot/\" + i + \".txt -num_threads 3\"\n",
    "    os.system(cmd)"
   ]
  },
  {
   "cell_type": "markdown",
   "id": "exciting-burton",
   "metadata": {},
   "source": [
    "## Extracting BLAST data"
   ]
  },
  {
   "cell_type": "code",
   "execution_count": 7,
   "id": "respiratory-authority",
   "metadata": {},
   "outputs": [],
   "source": [
    "#iterate through blast files and save most relevant information\n",
    "popu_gene = []\n",
    "mani_gene = []\n",
    "ident_pcts = []\n",
    "aln_spans = []\n",
    "evalues = []\n",
    "\n",
    "file_prefix = \"../processed_data/Q-populus_S-manihot/\"\n",
    "files = os.listdir(file_prefix)\n",
    "\n",
    "for i in files:\n",
    "    try:\n",
    "        blast_in = SearchIO.read(file_prefix + i, \"blast-tab\", comments = True)\n",
    "        popu_gene.append(blast_in[0][0].query_id)\n",
    "        mani_gene.append(blast_in[0][0].hit_id)\n",
    "        ident_pcts.append(blast_in[0][0].ident_pct)\n",
    "        aln_spans.append(blast_in[0][0].aln_span)\n",
    "        evalues.append(blast_in[0][0].evalue)\n",
    "    except:\n",
    "        pass"
   ]
  },
  {
   "cell_type": "code",
   "execution_count": 8,
   "id": "breeding-leader",
   "metadata": {},
   "outputs": [],
   "source": [
    "#convert blast info lists into python dataframe\n",
    "blast_df = pd.DataFrame(list(zip(popu_gene, mani_gene, ident_pcts, aln_spans, evalues)),\n",
    "                       columns = [\"popu_gene\", \"mani_gene\", \"percent_identity\", \"alignment_length\", \"evalue\"])\n",
    "blast_df.to_csv(\"../processed_data/populus_blast_results.tsv\", sep = \"\\t\")"
   ]
  },
  {
   "cell_type": "code",
   "execution_count": 9,
   "id": "3f327f20-aea2-4123-a118-508b607ea387",
   "metadata": {},
   "outputs": [],
   "source": [
    "blast_df = pd.read_csv(\"../processed_data/populus_blast_results.tsv\", sep = \"\\t\", index_col = 0)\n",
    "\n",
    "#I'm choosing a relatively stringent requirement of e-value < 0.0001 as an accepted cut-off\n",
    "blast_df[\"evalue_acceptance\"] = blast_df.evalue < 0.0001"
   ]
  },
  {
   "cell_type": "markdown",
   "id": "democratic-inspiration",
   "metadata": {},
   "source": [
    "## Matching orthogroup data"
   ]
  },
  {
   "cell_type": "code",
   "execution_count": 10,
   "id": "hollywood-garden",
   "metadata": {},
   "outputs": [],
   "source": [
    "#read in orthogroup data\n",
    "ortho_meta = pd.read_csv(\"../20200324_genome_analyses/metadata/Orthogroups.csv\", sep = \"\\t\")"
   ]
  },
  {
   "cell_type": "code",
   "execution_count": 11,
   "id": "textile-title",
   "metadata": {},
   "outputs": [],
   "source": [
    "#create dataframe matching brachypodium proteins with orthogroup\n",
    "ortho_filt = ortho_meta[[\"Unnamed: 0\", \"AM_refseq_manihot_esculenta\"]]\n",
    "ortho_filt = ortho_filt.dropna()\n",
    "\n",
    "#match proteins to orthogroups\n",
    "orthogroup = []\n",
    "protein = []\n",
    "\n",
    "for i in range(0,len(ortho_filt.index)):\n",
    "    holder = ortho_filt.iloc[i,1]\n",
    "    for j in holder.split(\", \"):\n",
    "        orthogroup.append(ortho_filt.iloc[i,0])\n",
    "        protein.append(j)\n",
    "\n",
    "brach_ortho = pd.DataFrame(list(zip(orthogroup, protein)),\n",
    "                          columns = [\"orthogroup\", \"mani_gene\"])"
   ]
  },
  {
   "cell_type": "code",
   "execution_count": 73,
   "id": "4f0f5b72-6ce8-48ab-902a-fe76956af265",
   "metadata": {},
   "outputs": [],
   "source": [
    "blast_df2 = pd.merge(blast_df, brach_ortho, on = \"mani_gene\")\n",
    "blast_df2.loc[(blast_df2.evalue_acceptance == False), \"orthogroup\"] = \"not_in_manihot\"\n",
    "\n",
    "#have gene names that are compatible with calabrese et al 2019 names\n",
    "entrez = pd.read_table(\"../metadata/Populus_trichocarpa.Pop_tri_v3.51.ena.tsv\", sep = \"\\t\")\n",
    "entrez.gene_stable_id = entrez.gene_stable_id.str.replace(\"POPTR_\", \"Potri.\")\n",
    "entrez.gene_stable_id = entrez.gene_stable_id.str.replace(\"v3\", \"\")\n",
    "entrez = entrez.iloc[:,[2,3]]\n",
    "blast_df2 = pd.merge(blast_df2, entrez, left_on = \"popu_gene\", right_on = \"transcript_stable_id\")\n",
    "\n",
    "blast_df2.to_csv(\"../processed_data/20210718_populus_blast_with_orthogroup.tsv\", sep = \"\\t\")"
   ]
  },
  {
   "cell_type": "code",
   "execution_count": 74,
   "id": "e5aacd4b-6e7a-42af-a652-99da640a1ad1",
   "metadata": {},
   "outputs": [
    {
     "data": {
      "text/html": [
       "<div>\n",
       "<style scoped>\n",
       "    .dataframe tbody tr th:only-of-type {\n",
       "        vertical-align: middle;\n",
       "    }\n",
       "\n",
       "    .dataframe tbody tr th {\n",
       "        vertical-align: top;\n",
       "    }\n",
       "\n",
       "    .dataframe thead th {\n",
       "        text-align: right;\n",
       "    }\n",
       "</style>\n",
       "<table border=\"1\" class=\"dataframe\">\n",
       "  <thead>\n",
       "    <tr style=\"text-align: right;\">\n",
       "      <th></th>\n",
       "      <th>gene_stable_id</th>\n",
       "      <th>transcript_stable_id</th>\n",
       "    </tr>\n",
       "  </thead>\n",
       "  <tbody>\n",
       "    <tr>\n",
       "      <th>0</th>\n",
       "      <td>ENSRNA049911435</td>\n",
       "      <td>ENSRNA049911435-T1</td>\n",
       "    </tr>\n",
       "    <tr>\n",
       "      <th>1</th>\n",
       "      <td>ENSRNA049911436</td>\n",
       "      <td>ENSRNA049911436-T1</td>\n",
       "    </tr>\n",
       "    <tr>\n",
       "      <th>2</th>\n",
       "      <td>ENSRNA049911437</td>\n",
       "      <td>ENSRNA049911437-T1</td>\n",
       "    </tr>\n",
       "    <tr>\n",
       "      <th>3</th>\n",
       "      <td>ENSRNA049911438</td>\n",
       "      <td>ENSRNA049911438-T1</td>\n",
       "    </tr>\n",
       "    <tr>\n",
       "      <th>4</th>\n",
       "      <td>ENSRNA049911439</td>\n",
       "      <td>ENSRNA049911439-T1</td>\n",
       "    </tr>\n",
       "    <tr>\n",
       "      <th>...</th>\n",
       "      <td>...</td>\n",
       "      <td>...</td>\n",
       "    </tr>\n",
       "    <tr>\n",
       "      <th>74019</th>\n",
       "      <td>Potri.T181700</td>\n",
       "      <td>PNS13733</td>\n",
       "    </tr>\n",
       "    <tr>\n",
       "      <th>74020</th>\n",
       "      <td>Potri.T181800</td>\n",
       "      <td>PNS13731</td>\n",
       "    </tr>\n",
       "    <tr>\n",
       "      <th>74021</th>\n",
       "      <td>Potri.T181900</td>\n",
       "      <td>PNS13732</td>\n",
       "    </tr>\n",
       "    <tr>\n",
       "      <th>74022</th>\n",
       "      <td>Potri.T182000</td>\n",
       "      <td>PNS13730</td>\n",
       "    </tr>\n",
       "    <tr>\n",
       "      <th>74023</th>\n",
       "      <td>Potri.T182100</td>\n",
       "      <td>PNS13729</td>\n",
       "    </tr>\n",
       "  </tbody>\n",
       "</table>\n",
       "<p>74024 rows × 2 columns</p>\n",
       "</div>"
      ],
      "text/plain": [
       "        gene_stable_id transcript_stable_id\n",
       "0      ENSRNA049911435   ENSRNA049911435-T1\n",
       "1      ENSRNA049911436   ENSRNA049911436-T1\n",
       "2      ENSRNA049911437   ENSRNA049911437-T1\n",
       "3      ENSRNA049911438   ENSRNA049911438-T1\n",
       "4      ENSRNA049911439   ENSRNA049911439-T1\n",
       "...                ...                  ...\n",
       "74019    Potri.T181700             PNS13733\n",
       "74020    Potri.T181800             PNS13731\n",
       "74021    Potri.T181900             PNS13732\n",
       "74022    Potri.T182000             PNS13730\n",
       "74023    Potri.T182100             PNS13729\n",
       "\n",
       "[74024 rows x 2 columns]"
      ]
     },
     "metadata": {},
     "output_type": "display_data"
    }
   ],
   "source": [
    "display(entrez)"
   ]
  }
 ],
 "metadata": {
  "kernelspec": {
   "display_name": "Python 3",
   "language": "python",
   "name": "python3"
  },
  "language_info": {
   "codemirror_mode": {
    "name": "ipython",
    "version": 3
   },
   "file_extension": ".py",
   "mimetype": "text/x-python",
   "name": "python",
   "nbconvert_exporter": "python",
   "pygments_lexer": "ipython3",
   "version": "3.7.10"
  }
 },
 "nbformat": 4,
 "nbformat_minor": 5
}
